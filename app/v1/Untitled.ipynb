{
 "cells": [
  {
   "cell_type": "code",
   "execution_count": null,
   "id": "c6d58bc2-c0e4-4be2-a5d0-7d6cea31f2c8",
   "metadata": {},
   "outputs": [],
   "source": [
    "main(base64) :\n",
    "    md1(base64, weight):\n",
    "        if rst == 0:\n",
    "            return 0 \n",
    "        elif rst == 1:\n",
    "            md3_rst = md3(base64, weight):\n",
    "                return md3_rst\n",
    "                \n",
    "    "
   ]
  }
 ],
 "metadata": {
  "kernelspec": {
   "display_name": "Python 3 (ipykernel)",
   "language": "python",
   "name": "python3"
  },
  "language_info": {
   "codemirror_mode": {
    "name": "ipython",
    "version": 3
   },
   "file_extension": ".py",
   "mimetype": "text/x-python",
   "name": "python",
   "nbconvert_exporter": "python",
   "pygments_lexer": "ipython3",
   "version": "3.9.13"
  }
 },
 "nbformat": 4,
 "nbformat_minor": 5
}
